{
 "cells": [
  {
   "cell_type": "code",
   "execution_count": 19,
   "id": "773e9827",
   "metadata": {},
   "outputs": [
    {
     "name": "stdout",
     "output_type": "stream",
     "text": [
      "(4000, 1899) (4000,) (1000, 1899) (1000,)\n"
     ]
    }
   ],
   "source": [
    "#imports\n",
    "import numpy as np\n",
    "from scipy.io import loadmat\n",
    "from sklearn import svm\n",
    "spam_train = loadmat('C:\\\\machine learning\\\\data\\\\spamTrain.mat')\n",
    "spam_test = loadmat('C:\\\\machine learning\\\\data\\\\spamTest.mat')\n",
    "X = spam_train['X']\n",
    "Xtest = spam_test['Xtest']\n",
    "y = spam_train['y'].ravel()\n",
    "ytest = spam_test['ytest'].ravel()\n",
    "#\n",
    "print(X.shape, y.shape, Xtest.shape, ytest.shape)"
   ]
  },
  {
   "cell_type": "code",
   "execution_count": 20,
   "id": "e86425c2",
   "metadata": {},
   "outputs": [
    {
     "name": "stdout",
     "output_type": "stream",
     "text": [
      "Test accuracy = 98.7%\n"
     ]
    }
   ],
   "source": [
    "svc = svm.SVC()\n",
    "# par default of svc C=1.0, kernel='rbf', degree=3, gamma='scale' 3 for avoid UF or OF\n",
    "svc.fit(X, y)\n",
    "\n",
    "# Testing\n",
    "print('Test accuracy = {0}%'.format(np.round(svc.score(Xtest, ytest) * 100, 2)))"
   ]
  },
  {
   "cell_type": "code",
   "execution_count": null,
   "id": "ccf1c916",
   "metadata": {},
   "outputs": [],
   "source": []
  }
 ],
 "metadata": {
  "kernelspec": {
   "display_name": "Python 3",
   "language": "python",
   "name": "python3"
  },
  "language_info": {
   "codemirror_mode": {
    "name": "ipython",
    "version": 3
   },
   "file_extension": ".py",
   "mimetype": "text/x-python",
   "name": "python",
   "nbconvert_exporter": "python",
   "pygments_lexer": "ipython3",
   "version": "3.8.8"
  }
 },
 "nbformat": 4,
 "nbformat_minor": 5
}
